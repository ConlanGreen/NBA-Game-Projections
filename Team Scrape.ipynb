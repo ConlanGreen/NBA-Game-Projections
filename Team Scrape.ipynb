{
 "cells": [
  {
   "cell_type": "code",
   "execution_count": 1,
   "metadata": {},
   "outputs": [],
   "source": [
    "#Libraries\n",
    "\n",
    "import requests\n",
    "from bs4 import BeautifulSoup\n",
    "import os\n",
    "import time\n",
    "import pandas as pd\n",
    "\n"
   ]
  },
  {
   "cell_type": "code",
   "execution_count": 2,
   "metadata": {},
   "outputs": [],
   "source": [
    "teamURL = []\n",
    "\n",
    "teamList = [\"ATL\",\"BOS\",\"NJN\",\"CHA\",\"CHI\",\"CLE\",\"DAL\",\"DEN\",\"DET\",\"GSW\",\"HOU\",\"IND\",\"LAC\", \\\n",
    "           \"LAL\",\"MEM\",\"MIA\",\"MIL\",\"MIN\",\"NOH\",\"NYK\",\"OKC\",\"ORL\",\"PHI\",\"PHO\",\"POR\",\"SAC\", \\\n",
    "           \"SAS\",\"TOR\",\"UTA\",\"WAS\"] #Current list of team abbrieviations used by BRef\n",
    "\n"
   ]
  },
  {
   "cell_type": "code",
   "execution_count": 3,
   "metadata": {},
   "outputs": [
    {
     "name": "stdout",
     "output_type": "stream",
     "text": [
      "['ATL', 'BOS', 'NJN', 'CHA', 'CHI', 'CLE', 'DAL', 'DEN', 'DET', 'GSW', 'HOU', 'IND', 'LAC', 'LAL', 'MEM', 'MIA', 'MIL', 'MIN', 'NOH', 'NYK', 'OKC', 'ORL', 'PHI', 'PHO', 'POR', 'SAC', 'SAS', 'TOR', 'UTA', 'WAS']\n"
     ]
    }
   ],
   "source": [
    "print(teamList)"
   ]
  },
  {
   "cell_type": "code",
   "execution_count": 4,
   "metadata": {},
   "outputs": [],
   "source": [
    "for team in teamList:\n",
    "    URL = \"https://www.basketball-reference.com/teams/{}/stats_basic_totals.html\".format(team)\n",
    "    teamBasicStatsURL.append(URL)\n",
    "    "
   ]
  },
  {
   "cell_type": "code",
   "execution_count": 5,
   "metadata": {},
   "outputs": [
    {
     "data": {
      "text/plain": [
       "['https://www.basketball-reference.com/teams/ATL/',\n",
       " 'https://www.basketball-reference.com/teams/BOS/',\n",
       " 'https://www.basketball-reference.com/teams/NJN/',\n",
       " 'https://www.basketball-reference.com/teams/CHA/',\n",
       " 'https://www.basketball-reference.com/teams/CHI/',\n",
       " 'https://www.basketball-reference.com/teams/CLE/',\n",
       " 'https://www.basketball-reference.com/teams/DAL/',\n",
       " 'https://www.basketball-reference.com/teams/DEN/',\n",
       " 'https://www.basketball-reference.com/teams/DET/',\n",
       " 'https://www.basketball-reference.com/teams/GSW/',\n",
       " 'https://www.basketball-reference.com/teams/HOU/',\n",
       " 'https://www.basketball-reference.com/teams/IND/',\n",
       " 'https://www.basketball-reference.com/teams/LAC/',\n",
       " 'https://www.basketball-reference.com/teams/LAL/',\n",
       " 'https://www.basketball-reference.com/teams/MEM/',\n",
       " 'https://www.basketball-reference.com/teams/MIA/',\n",
       " 'https://www.basketball-reference.com/teams/MIL/',\n",
       " 'https://www.basketball-reference.com/teams/MIN/',\n",
       " 'https://www.basketball-reference.com/teams/NOH/',\n",
       " 'https://www.basketball-reference.com/teams/NYK/',\n",
       " 'https://www.basketball-reference.com/teams/OKC/',\n",
       " 'https://www.basketball-reference.com/teams/ORL/',\n",
       " 'https://www.basketball-reference.com/teams/PHI/',\n",
       " 'https://www.basketball-reference.com/teams/PHO/',\n",
       " 'https://www.basketball-reference.com/teams/POR/',\n",
       " 'https://www.basketball-reference.com/teams/SAC/',\n",
       " 'https://www.basketball-reference.com/teams/SAS/',\n",
       " 'https://www.basketball-reference.com/teams/TOR/',\n",
       " 'https://www.basketball-reference.com/teams/UTA/',\n",
       " 'https://www.basketball-reference.com/teams/WAS/']"
      ]
     },
     "execution_count": 5,
     "metadata": {},
     "output_type": "execute_result"
    }
   ],
   "source": [
    "teamURL"
   ]
  },
  {
   "cell_type": "code",
   "execution_count": 6,
   "metadata": {},
   "outputs": [
    {
     "name": "stdout",
     "output_type": "stream",
     "text": [
      "https://www.basketball-reference.com/teams/ATL/\n",
      "\n",
      "\n",
      "https://www.basketball-reference.com/teams/BOS/\n",
      "\n",
      "\n",
      "https://www.basketball-reference.com/teams/NJN/\n",
      "\n",
      "\n",
      "https://www.basketball-reference.com/teams/CHA/\n",
      "\n",
      "\n",
      "https://www.basketball-reference.com/teams/CHI/\n",
      "\n",
      "\n",
      "https://www.basketball-reference.com/teams/CLE/\n",
      "\n",
      "\n",
      "https://www.basketball-reference.com/teams/DAL/\n",
      "\n",
      "\n",
      "https://www.basketball-reference.com/teams/DEN/\n",
      "\n",
      "\n",
      "https://www.basketball-reference.com/teams/DET/\n",
      "\n",
      "\n",
      "https://www.basketball-reference.com/teams/GSW/\n",
      "\n",
      "\n",
      "https://www.basketball-reference.com/teams/HOU/\n",
      "\n",
      "\n",
      "https://www.basketball-reference.com/teams/IND/\n",
      "\n",
      "\n",
      "https://www.basketball-reference.com/teams/LAC/\n",
      "\n",
      "\n",
      "https://www.basketball-reference.com/teams/LAL/\n",
      "\n",
      "\n",
      "https://www.basketball-reference.com/teams/MEM/\n",
      "\n",
      "\n",
      "https://www.basketball-reference.com/teams/MIA/\n",
      "\n",
      "\n",
      "https://www.basketball-reference.com/teams/MIL/\n",
      "\n",
      "\n",
      "https://www.basketball-reference.com/teams/MIN/\n",
      "\n",
      "\n",
      "https://www.basketball-reference.com/teams/NOH/\n",
      "\n",
      "\n",
      "https://www.basketball-reference.com/teams/NYK/\n",
      "\n",
      "\n",
      "https://www.basketball-reference.com/teams/OKC/\n",
      "\n",
      "\n",
      "https://www.basketball-reference.com/teams/ORL/\n",
      "\n",
      "\n",
      "https://www.basketball-reference.com/teams/PHI/\n",
      "\n",
      "\n",
      "https://www.basketball-reference.com/teams/PHO/\n",
      "\n",
      "\n",
      "https://www.basketball-reference.com/teams/POR/\n",
      "\n",
      "\n",
      "https://www.basketball-reference.com/teams/SAC/\n",
      "\n",
      "\n",
      "https://www.basketball-reference.com/teams/SAS/\n",
      "\n",
      "\n",
      "https://www.basketball-reference.com/teams/TOR/\n",
      "\n",
      "\n",
      "https://www.basketball-reference.com/teams/UTA/\n",
      "\n",
      "\n",
      "https://www.basketball-reference.com/teams/WAS/\n",
      "\n",
      "\n"
     ]
    }
   ],
   "source": [
    "for url in teamURL:\n",
    "    print(url)\n",
    "    \n",
    "    ####################################################\n",
    "    # Get the content of a page\n",
    "    ####################################################\n",
    "    r = requests.get(url)\n",
    "    soup = BeautifulSoup(r.content, \"html.parser\")\n",
    "    \n",
    "        \n",
    "    time.sleep(.2)"
   ]
  },
  {
   "cell_type": "code",
   "execution_count": null,
   "metadata": {},
   "outputs": [],
   "source": []
  }
 ],
 "metadata": {
  "kernelspec": {
   "display_name": "Python 3",
   "language": "python",
   "name": "python3"
  },
  "language_info": {
   "codemirror_mode": {
    "name": "ipython",
    "version": 3
   },
   "file_extension": ".py",
   "mimetype": "text/x-python",
   "name": "python",
   "nbconvert_exporter": "python",
   "pygments_lexer": "ipython3",
   "version": "3.7.4"
  }
 },
 "nbformat": 4,
 "nbformat_minor": 2
}
